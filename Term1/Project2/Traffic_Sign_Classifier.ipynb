{
 "cells": [
  {
   "cell_type": "markdown",
   "metadata": {},
   "source": [
    "# Self-Driving Car Engineer Nanodegree\n",
    "\n",
    "## Deep Learning\n",
    "\n",
    "## Project: Build a Traffic Sign Recognition Classifier\n",
    "\n",
    "In this notebook, a template is provided for you to implement your functionality in stages which is required to successfully complete this project. If additional code is required that cannot be included in the notebook, be sure that the Python code is successfully imported and included in your submission, if necessary. Sections that begin with **'Implementation'** in the header indicate where you should begin your implementation for your project. Note that some sections of implementation are optional, and will be marked with **'Optional'** in the header.\n",
    "\n",
    "In addition to implementing code, there will be questions that you must answer which relate to the project and your implementation. Each section where you will answer a question is preceded by a **'Question'** header. Carefully read each question and provide thorough answers in the following text boxes that begin with **'Answer:'**. Your project submission will be evaluated based on your answers to each of the questions and the implementation you provide.\n",
    "\n",
    ">**Note:** Code and Markdown cells can be executed using the **Shift + Enter** keyboard shortcut. In addition, Markdown cells can be edited by typically double-clicking the cell to enter edit mode."
   ]
  },
  {
   "cell_type": "markdown",
   "metadata": {},
   "source": [
    "---\n",
    "## Step 0: Load The Data"
   ]
  },
  {
   "cell_type": "code",
   "execution_count": 1,
   "metadata": {
    "collapsed": true
   },
   "outputs": [],
   "source": [
    "# Load pickled data\n",
    "import pickle\n",
    "\n",
    "training_file = './train.p'\n",
    "testing_file = './test.p'\n",
    "\n",
    "with open(training_file, mode='rb') as f:\n",
    "    train = pickle.load(f)\n",
    "with open(testing_file, mode='rb') as f:\n",
    "    test = pickle.load(f)\n",
    "    \n",
    "X_train, y_train = train['features'], train['labels']\n",
    "X_test, y_test = test['features'], test['labels']\n",
    "\n",
    "X_coords, X_sizes = train['coords'], train['sizes']"
   ]
  },
  {
   "cell_type": "markdown",
   "metadata": {},
   "source": [
    "---\n",
    "\n",
    "## Step 1: Dataset Summary & Exploration\n",
    "\n",
    "The pickled data is a dictionary with 4 key/value pairs:\n",
    "\n",
    "- `'features'` is a 4D array containing raw pixel data of the traffic sign images, (num examples, width, height, channels).\n",
    "- `'labels'` is a 1D array containing the label/class id of the traffic sign. The file `signnames.csv` contains id -> name mappings for each id.\n",
    "- `'sizes'` is a list containing tuples, (width, height) representing the the original width and height the image.\n",
    "- `'coords'` is a list containing tuples, (x1, y1, x2, y2) representing coordinates of a bounding box around the sign in the image. **THESE COORDINATES ASSUME THE ORIGINAL IMAGE. THE PICKLED DATA CONTAINS RESIZED VERSIONS (32 by 32) OF THESE IMAGES**\n",
    "\n",
    "Complete the basic data summary below."
   ]
  },
  {
   "cell_type": "code",
   "execution_count": 2,
   "metadata": {
    "collapsed": false
   },
   "outputs": [
    {
     "name": "stdout",
     "output_type": "stream",
     "text": [
      "Number of training examples = 39209\n",
      "Number of testing examples = 12630\n",
      "Image data shape = (32, 32, 3)\n",
      "Number of classes = 43\n"
     ]
    }
   ],
   "source": [
    "import csv\n",
    "\n",
    "# Number of training examples\n",
    "n_train = len(train['labels'])\n",
    "\n",
    "# Number of testing examples.\n",
    "n_test = len(test['labels'])\n",
    "\n",
    "# What's the shape of an traffic sign image?\n",
    "image_shape = X_train[0].shape\n",
    "\n",
    "# How many unique classes/labels there are in the dataset.\n",
    "labelmap = {}\n",
    "with open('./signnames.csv', 'r') as csvfile:\n",
    "    reader = csv.DictReader(csvfile)\n",
    "    for row in reader:\n",
    "        labelmap[int(row['ClassId'])] = row['SignName']\n",
    "n_classes = len(labelmap)\n",
    "        \n",
    "print(\"Number of training examples =\", n_train)\n",
    "print(\"Number of testing examples =\", n_test)\n",
    "print(\"Image data shape =\", image_shape)\n",
    "print(\"Number of classes =\", n_classes)"
   ]
  },
  {
   "cell_type": "markdown",
   "metadata": {},
   "source": [
    "Visualize the German Traffic Signs Dataset using the pickled file(s). This is open ended, suggestions include: plotting traffic sign images, plotting the count of each sign, etc.\n",
    "\n",
    "The [Matplotlib](http://matplotlib.org/) [examples](http://matplotlib.org/examples/index.html) and [gallery](http://matplotlib.org/gallery.html) pages are a great resource for doing visualizations in Python.\n",
    "\n",
    "**NOTE:** It's recommended you start with something simple first. If you wish to do more, come back to it after you've completed the rest of the sections."
   ]
  },
  {
   "cell_type": "code",
   "execution_count": 3,
   "metadata": {
    "collapsed": false
   },
   "outputs": [
    {
     "name": "stdout",
     "output_type": "stream",
     "text": [
      "Description: Speed limit (30km/h)\n",
      "Original image size:\n",
      "[42 43]\n",
      "Original image bounding box (x1, y1, x2, y2):\n",
      "[ 6  5 37 38]\n"
     ]
    },
    {
     "data": {
      "image/png": "[encoded data removed]",
      "text/plain": [
       "<matplotlib.figure.Figure at 0x28db99ac278>"
      ]
     },
     "metadata": {},
     "output_type": "display_data"
    }
   ],
   "source": [
    "import matplotlib.pyplot as plt\n",
    "# Visualizations will be shown in the notebook.\n",
    "%matplotlib inline\n",
    "\n",
    "import random\n",
    "\n",
    "index = random.randint(0, n_train)\n",
    "image = X_train[index]\n",
    "\n",
    "plt.figure(figsize=(1,1))\n",
    "plt.imshow(image)\n",
    "print(\"Description: \" + labelmap[y_train[index]])\n",
    "print(\"Original image size:\")\n",
    "print(X_sizes[index])\n",
    "print(\"Original image bounding box (x1, y1, x2, y2):\")\n",
    "print(X_coords[index])\n"
   ]
  },
  {
   "cell_type": "markdown",
   "metadata": {},
   "source": [
    "----\n",
    "\n",
    "## Step 2: Design and Test a Model Architecture\n",
    "\n",
    "Design and implement a deep learning model that learns to recognize traffic signs. Train and test your model on the [German Traffic Sign Dataset](http://benchmark.ini.rub.de/?section=gtsrb&subsection=dataset).\n",
    "\n",
    "There are various aspects to consider when thinking about this problem:\n",
    "\n",
    "- Neural network architecture\n",
    "- Play around preprocessing techniques (normalization, rgb to grayscale, etc)\n",
    "- Number of examples per label (some have more than others).\n",
    "- Generate fake data.\n",
    "\n",
    "Here is an example of a [published baseline model on this problem](http://yann.lecun.com/exdb/publis/pdf/sermanet-ijcnn-11.pdf). It's not required to be familiar with the approach used in the paper but, it's good practice to try to read papers like these.\n",
    "\n",
    "**NOTE:** The LeNet-5 implementation shown in the [classroom](https://classroom.udacity.com/nanodegrees/nd013/parts/fbf77062-5703-404e-b60c-95b78b2f3f9e/modules/6df7ae49-c61c-4bb2-a23e-6527e69209ec/lessons/601ae704-1035-4287-8b11-e2c2716217ad/concepts/d4aca031-508f-4e0b-b493-e7b706120f81) at the end of the CNN lesson is a solid starting point. You'll have to change the number of classes and possibly the preprocessing, but aside from that it's plug and play!"
   ]
  },
  {
   "cell_type": "markdown",
   "metadata": {},
   "source": [
    "### Implementation\n",
    "\n",
    "Use the code cell (or multiple code cells, if necessary) to implement the first step of your project. Once you have completed your implementation and are satisfied with the results, be sure to thoroughly answer the questions that follow."
   ]
  },
  {
   "cell_type": "code",
   "execution_count": 4,
   "metadata": {
    "collapsed": false
   },
   "outputs": [
    {
     "data": {
      "image/png": "[encoded data removed]",
      "text/plain": [
       "<matplotlib.figure.Figure at 0x28dbad2df60>"
      ]
     },
     "metadata": {},
     "output_type": "display_data"
    }
   ],
   "source": [
    "# Pre-processing of the data\n",
    "\n",
    "import numpy as np\n",
    "import cv2\n",
    "\n",
    "# First, let's see how many items of each category we have:\n",
    "class_index = []\n",
    "# let's initialize class_index\n",
    "for index in range(len(y_train)):\n",
    "    class_index.append([])\n",
    "\n",
    "for index in range(len(y_train)):\n",
    "    item_class = y_train[index]\n",
    "    class_index[item_class].append(index)\n",
    "\n",
    "# show a histogram for human readibility\n",
    "plt.hist(y_train, bins='auto')\n",
    "plt.title(\"Count of images (y) per class (x)\")\n",
    "plt.show()\n",
    "\n",
    "def modify_image(image):\n",
    "    \"\"\"\n",
    "    Expects the parameter to be a 3-dimensional array with the RGB information\n",
    "    for the image; will create a new image by modifying the original with random\n",
    "    parameters\n",
    "    \"\"\"\n",
    "    rows,cols = len(image), len(image[0])\n",
    "    # tilt [-20,20]\n",
    "    tilt_angle = -20 + int(random.random() * 40)\n",
    "    M = cv2.getRotationMatrix2D((cols/2,rows/2),tilt_angle,1)\n",
    "    out = cv2.warpAffine(image,M,(cols,rows))\n",
    "    return np.asarray(out)\n",
    "    \n",
    "\n",
    "# The disparity in image count is striking, we should attempt to equalize the field at least a little bit\n",
    "# so the difference in example count between different classes isn't as wide\n",
    "# We will ensure that each class has at least N items, so we'll iterate over the class index and ensure that\n",
    "# we add the required amount of images; these new images will be created by applying modifications to\n",
    "# the initial set of images\n",
    "# Arbitrarily I've chosen 1000 as the minimum number of images given that some classes have as little as 250\n",
    "# items while others have as much as 2500. Lowering this disparity is what I intend\n",
    "min_item_count = 1000\n",
    "extension_to_X_train = []\n",
    "extension_to_y_train = []\n",
    "extension_to_X_coords = []\n",
    "extension_to_X_sizes = []\n",
    "for current_class in range(n_classes):\n",
    "    item_index = class_index[current_class]\n",
    "    item_count = len(item_index)\n",
    "    if item_count < min_item_count:\n",
    "        #print(\"Class: {0}\".format(current_class))\n",
    "        #print(item_count)\n",
    "        #print(item_index)\n",
    "        # let's add the new data\n",
    "        N = min_item_count - item_count\n",
    "        for i in range(N):\n",
    "            #print(\"Index {0}\".format(i))\n",
    "            image_selector = item_index[i % item_count]\n",
    "            #print(\"Image selector {0}\".format(image_selector))\n",
    "            selected_image = X_train[image_selector]\n",
    "            #print(selected_image)\n",
    "            #plt.figure(figsize=(1,1))\n",
    "            #plt.imshow(selected_image)\n",
    "            extension_to_X_train.append(modify_image(selected_image))\n",
    "            extension_to_y_train.append(y_train[image_selector])\n",
    "            extension_to_X_coords.append(X_coords[image_selector])\n",
    "            extension_to_X_sizes.append(X_sizes[image_selector])\n",
    "\n",
    "# Append extensions\n",
    "X_train = np.append(X_train, extension_to_X_train, axis=0)\n",
    "y_train = np.append(y_train, extension_to_y_train, axis=0)\n",
    "X_coords = np.append(X_coords, extension_to_X_coords, axis=0)\n",
    "X_sizes = np.append(X_sizes, extension_to_X_sizes, axis=0)\n",
    "n_train = len(X_train)\n"
   ]
  },
  {
   "cell_type": "code",
   "execution_count": 5,
   "metadata": {
    "collapsed": false
   },
   "outputs": [
    {
     "name": "stdout",
     "output_type": "stream",
     "text": [
      "Total item count = 54710\n"
     ]
    },
    {
     "data": {
      "image/png": "[encoded data removed]",
      "text/plain": [
       "<matplotlib.figure.Figure at 0x28dbb6492e8>"
      ]
     },
     "metadata": {},
     "output_type": "display_data"
    },
    {
     "name": "stdout",
     "output_type": "stream",
     "text": [
      "Description: Children crossing\n"
     ]
    },
    {
     "data": {
      "image/png": "[encoded data removed]",
      "text/plain": [
       "<matplotlib.figure.Figure at 0x28dbb70ad30>"
      ]
     },
     "metadata": {},
     "output_type": "display_data"
    }
   ],
   "source": [
    "# Give a count of the modified training data\n",
    "# show a histogram for human readibility\n",
    "print(\"Total item count =\", n_train)\n",
    "plt.hist(y_train, bins='auto')\n",
    "plt.title(\"Count of images (y) per class (x)\")\n",
    "plt.show()\n",
    "\n",
    "index = random.randint(0, len(extension_to_X_train))\n",
    "image = extension_to_X_train[index]\n",
    "\n",
    "plt.figure(figsize=(1,1))\n",
    "plt.imshow(image)\n",
    "print(\"Description: \" + labelmap[extension_to_y_train[index]])\n"
   ]
  },
  {
   "cell_type": "markdown",
   "metadata": {},
   "source": [
    "### Question 1 \n",
    "\n",
    "_Describe how you preprocessed the data. Why did you choose that technique?_\n",
    "\n"
   ]
  },
  {
   "cell_type": "markdown",
   "metadata": {},
   "source": [
    "**Answer:**"
   ]
  },
  {
   "cell_type": "code",
   "execution_count": 17,
   "metadata": {
    "collapsed": false
   },
   "outputs": [
    {
     "name": "stdout",
     "output_type": "stream",
     "text": [
      "Done grayscaling, rendering an example output vs the original:\n",
      "Index:  45324\n",
      "Description: Road narrows on the right\n"
     ]
    },
    {
     "data": {
      "image/png": "[encoded data removed]",
      "text/plain": [
       "<matplotlib.figure.Figure at 0x2900a277da0>"
      ]
     },
     "metadata": {},
     "output_type": "display_data"
    },
    {
     "data": {
      "image/png": "[encoded data removed]",
      "text/plain": [
       "<matplotlib.figure.Figure at 0x28e5e77d940>"
      ]
     },
     "metadata": {},
     "output_type": "display_data"
    }
   ],
   "source": [
    "import cv2\n",
    "\n",
    "#X_train_grayscale = []\n",
    "#for index in range(n_train):\n",
    "#    grayscale = cv2.cvtColor(X_train_scaled[index], cv2.COLOR_BGR2GRAY)\n",
    "#    X_train_grayscale.append(grayscale)\n",
    "X_train_grayscale = []\n",
    "for index in range(n_train):\n",
    "    grayscale = np.zeros_like(img, dtype=np.float32)\n",
    "    rgb = X_train[index]\n",
    "    y = 0.2989 * rgb[:,:,0] + 0.5870 * rgb[:,:,1] + 0.1140 * rgb[:,:,2]\n",
    "    grayscale[:,:,0] = grayscale[:,:,1] = grayscale[:,:,2] = y.squeeze()\n",
    "    X_train_grayscale.append(grayscale)\n",
    "\n",
    "\n",
    "print(\"Done grayscaling, rendering an example output vs the original:\")\n",
    "\n",
    "index = random.randint(0, n_train)\n",
    "print(\"Index: \", index)\n",
    "image = X_train_grayscale[index]\n",
    "\n",
    "plt.figure(figsize=(1,1))\n",
    "plt.imshow(image)\n",
    "plt.figure(figsize=(1,1))\n",
    "plt.imshow(X_train[index])\n",
    "print(\"Description: \" + labelmap[y_train[index]])\n",
    "\n",
    "# we now have a second set of images which is the same as the cropped-resized images we pre-processed before\n",
    "# but in a human-balanced grayscale, still 3 channels.\n"
   ]
  },
  {
   "cell_type": "code",
   "execution_count": 18,
   "metadata": {
    "collapsed": false
   },
   "outputs": [],
   "source": [
    "# Normalize the data first (centered at 0,0, with a span of 1)\n",
    "# We know the RGB data is supposed to be 0 to 255\n",
    "\n",
    "def normalize_rgb_value(val):\n",
    "    #print(val)\n",
    "    #print(val.shape)\n",
    "    return (val - 128) / 128\n",
    "\n",
    "def normalize_image(image):\n",
    "    return (image - 128) / 128\n",
    "\n",
    "def normalize_image2(image):\n",
    "    normalized = np.zeros(image_shape, dtype=np.float32)\n",
    "    if (len(image.shape) > 2):\n",
    "        value_0 = image[:,:,0]\n",
    "        value_1 = image[:,:,1]\n",
    "        value_2 = image[:,:,2]\n",
    "    else:\n",
    "        value_0 = value_1 = value_2 = image[:,:]\n",
    "    normalized[:,:,0] = normalize_rgb_value(value_0)\n",
    "    normalized[:,:,1] = normalize_rgb_value(value_1)\n",
    "    normalized[:,:,2] = normalize_rgb_value(value_2)\n",
    "    return normalized\n",
    "\n",
    "X_train_grayscale_normalized = np.array([normalize_image(i) for i in X_train_grayscale])\n",
    "X_train_normalized = np.array([normalize_image(i) for i in X_train.astype(np.float32)])\n",
    "X_test_normalized = np.array([normalize_image(i) for i in X_test.astype(np.float32)])\n"
   ]
  },
  {
   "cell_type": "code",
   "execution_count": 19,
   "metadata": {
    "collapsed": false
   },
   "outputs": [
    {
     "name": "stdout",
     "output_type": "stream",
     "text": [
      "Index:  45324\n"
     ]
    },
    {
     "data": {
      "text/plain": [
       "<matplotlib.image.AxesImage at 0x28dc1cf7588>"
      ]
     },
     "execution_count": 19,
     "metadata": {},
     "output_type": "execute_result"
    },
    {
     "data": {
      "image/png": "[encoded data removed]",
      "text/plain": [
       "<matplotlib.figure.Figure at 0x28dc1c5d9e8>"
      ]
     },
     "metadata": {},
     "output_type": "display_data"
    },
    {
     "data": {
      "image/png": "[encoded data removed]",
      "text/plain": [
       "<matplotlib.figure.Figure at 0x28e5e50b2e8>"
      ]
     },
     "metadata": {},
     "output_type": "display_data"
    }
   ],
   "source": [
    "#index = random.randint(0, n_train)\n",
    "print(\"Index: \", index)\n",
    "plt.figure(figsize=(1,1))\n",
    "plt.imshow(X_train_normalized[index])\n",
    "plt.figure(figsize=(1,1))\n",
    "plt.imshow(X_train_grayscale_normalized[index])\n"
   ]
  },
  {
   "cell_type": "code",
   "execution_count": 20,
   "metadata": {
    "collapsed": false
   },
   "outputs": [
    {
     "name": "stdout",
     "output_type": "stream",
     "text": [
      "Done splitting and shuffling items\n",
      "87254\n",
      "22166\n",
      "Description: Turn right ahead\n"
     ]
    },
    {
     "data": {
      "image/png": "[encoded data removed]",
      "text/plain": [
       "<matplotlib.figure.Figure at 0x28dc1c0aa20>"
      ]
     },
     "metadata": {},
     "output_type": "display_data"
    }
   ],
   "source": [
    "# Let's say we want 80% of the data to be testing data, and 20% to be validation data\n",
    "# We also want to shuffle the items in the testing set and the validation set\n",
    "from sklearn.utils import shuffle\n",
    "\n",
    "train_split_prob = 0.8\n",
    "X_train_split = []\n",
    "y_train_split = []\n",
    "X_validation_split = []\n",
    "y_validation_split = []\n",
    "def split_and_append(Xinput, yinput, split_prob, X1, y1, X2, y2):\n",
    "    \"\"\"\n",
    "    Takes the input X,y and appends them to X1,y1 or X2,y2 depending\n",
    "    on the split_prob value.\n",
    "    \"\"\"\n",
    "    for index in range(len(Xinput)):\n",
    "        image = Xinput[index]\n",
    "        classification = yinput[index]\n",
    "        is_second_split = random.random() >= split_prob\n",
    "        if is_second_split:\n",
    "            X2.append(image)\n",
    "            y2.append(classification)\n",
    "        else:\n",
    "            X1.append(image)\n",
    "            y1.append(classification)\n",
    "\n",
    "split_and_append(X_train_normalized,\n",
    "                 y_train,\n",
    "                 train_split_prob,\n",
    "                 X_train_split,\n",
    "                 y_train_split,\n",
    "                 X_validation_split,\n",
    "                 y_validation_split)\n",
    "split_and_append(X_train_grayscale_normalized,\n",
    "                 y_train,\n",
    "                 train_split_prob,\n",
    "                 X_train_split,\n",
    "                 y_train_split,\n",
    "                 X_validation_split,\n",
    "                 y_validation_split)\n",
    "\n",
    "X_train_split, y_train_split = shuffle(X_train_split, y_train_split)\n",
    "X_validation_split, y_validation_split = shuffle(X_validation_split, y_validation_split)\n",
    "\n",
    "\n",
    "print(\"Done splitting and shuffling items\")\n",
    "expected_len_X = len(X_train_normalized) + len(X_train_grayscale_normalized)\n",
    "expected_len_y = len(y_train) * 2\n",
    "len_train_X = len(X_train_split)\n",
    "len_validation_X = len(X_validation_split)\n",
    "len_train_y = len(y_train_split)\n",
    "len_valudation_y = len(y_validation_split)\n",
    "assert expected_len_X == len_train_X + len_validation_X\n",
    "assert expected_len_y == len_train_y + len_valudation_y\n",
    "assert len_train_X == len_train_y\n",
    "assert len_validation_X == len_valudation_y\n",
    "print(len_train_X)\n",
    "print(len_validation_X)\n",
    "\n",
    "index = random.randint(0, n_train)\n",
    "image = X_train_split[index]\n",
    "\n",
    "plt.figure(figsize=(1,1))\n",
    "plt.imshow(image)\n",
    "print(\"Description: \" + labelmap[y_train_split[index]])"
   ]
  },
  {
   "cell_type": "markdown",
   "metadata": {},
   "source": [
    "### Question 2\n",
    "\n",
    "_Describe how you set up the training, validation and testing data for your model. **Optional**: If you generated additional data, how did you generate the data? Why did you generate the data? What are the differences in the new dataset (with generated data) from the original dataset?_\n",
    "\n",
    "**Splitting the training set**\n",
    "\n",
    "We already had one training set and one test set to begin with. I'm leaving the test set as is and intend to use it only once after I'm fully confident of the accuracy of my model based on the test data.\n",
    "\n",
    "The training set, however, is going to be split in 2 parts:\n",
    "  - 80% of the data into the actual training set\n",
    "  - 20% of the data into a new validation set\n",
    "\n",
    "This partition is achieved by iterating on the input data set (X,y) and splitting it into the 2 buckets (training(X,y) and validation(X,y)). Each data pair (Xi,yi) is assigned to a set by obtaining a random number between 0.0 and 1.0 and choosing one bucket if the random number is below the threshold, or the other bucket if it's above the threshold. This makes it easy to think of partitioning the data as percentages of the input. Note that here we assume that the random number generator gives a relatively uniform distribution of results over the [0.0, 1.0] continuum.\n",
    "\n",
    "After the training set and validation set have been created, we proceed to shuffle their contents by \n",
    "\n",
    "\n",
    "**Newly generated data**\n",
    "\n",
    "I read that the picked data contained cropping information, encoded as the 4 corners of a square in the original image size map. I transformed the cropping information to the coordinate system used by the scaled image (32 x 32) used a PIL image to first crop the area outside the pixels of interest. Since our algorithm assumes a 32 x 32 image, I scaled the image back to the specified dimensions.\n",
    "\n",
    "I chose this in order to reduce the signal-to-noise ratio of the data we're sending to the network. I'm assuming that the pixels outside of the area of interest are noise and might lower the overall accuracy of our predictions. For example, if all the training images had green or brown from trees in the background, the network might fail to understand that a sign with a blue-sky in the background is equally valid. Furthermore, if we move this to grayscale, the elimination of the surrounding pixels is just as useful. Imagine that for a specific type of traffic sign, such as \"yield\", we didn't have enough training data. In that case our network will be very sensitive to all the pixels available in the few images we have. This might mean that our network can only recognize \"yield\" signs when the signal and the noise levels of the test data are similar to those of the training data. I'm assuming that by reducing the noise in the training data we render the noise in the test data less detrimental overall.\n",
    "\n",
    "My assumptions might be wrong, so not only will I be training my network, I'll be training my own personal experience and the heuristics I'll use going forward.\n",
    "\n",
    "I decided to take this step to generate grayscale images corresponding to the scaled images. We really have 3 data sets at this point:\n",
    "  - The original images\n",
    "  - The scaled images (scaled using the provided data)\n",
    "  - The grayscale images from the scaled images\n",
    "\n",
    "The three data sets can use the same y_train array as the order and type of the items is preserved in the 2 derived sets. I intend to only use the scaled images, both grayscale and color, and leave the original images out for now.\n",
    "\n",
    "I'm thinking perhaps training the data on both the color and the grayscale images might help me improve the accuracy of the predictions going forward. I'll try to ensure that the network can decide \"this is a yield sign\" based on the unique characteristics found in the color image, or the more general strokes seen in the grayscale image.\n",
    "\n",
    "I originally though of taking the original images and tilt them by a random amount of degrees, ranging from -20 to 20 degrees or so. I decided not to do this on my first try because my intuition tells me this might not help me improve the model any more than additional epochs will. Basically, I'm assuming two things:\n",
    "  - There should be enough data variety in the training set to more naturally express real-world data\n",
    "  - The convolution processes I'll apply going forward will dramatically transform the data, to the point where tilts in the image might not matter\n",
    "  \n",
    "The second point in particular is pure intuition and I will eventually test whether this is true or not. "
   ]
  },
  {
   "cell_type": "markdown",
   "metadata": {},
   "source": [
    "**Answer:**"
   ]
  },
  {
   "cell_type": "code",
   "execution_count": 21,
   "metadata": {
    "collapsed": true
   },
   "outputs": [],
   "source": [
    "def LeNet(x, keep_probability):    \n",
    "    # Arguments used for tf.truncated_normal, randomly defines variables for the weights and biases for each layer\n",
    "    mu = 0\n",
    "    sigma = 0.1\n",
    "    \n",
    "    # Layer 1: Convolutional. Input = 32x32x3. Output = 28x28x6.\n",
    "    # new_height = (input_height - filter_height + 2 * P)/S + 1\n",
    "    # 28 = ((32 - fh)/S) + 1\n",
    "    #(27 * S) + fh= 32\n",
    "    # S = 1, fh = 5    \n",
    "    F_W = tf.Variable(tf.truncated_normal((5, 5, 3, 6), mean = mu, stddev = sigma, dtype=tf.float32))\n",
    "    F_b = tf.Variable(tf.zeros(6))\n",
    "    strides = [1, 1, 1, 1]\n",
    "    padding = 'VALID'\n",
    "    layer1 = tf.nn.conv2d(x, F_W, strides, padding) + F_b\n",
    "\n",
    "    # Activation.\n",
    "    layer1 = tf.nn.relu(layer1)\n",
    "    \n",
    "    # Dropout\n",
    "    layer1 = tf.nn.dropout(layer1, keep_probability)\n",
    "\n",
    "    # Pooling. Input = 28x28x6. Output = 14x14x6.\n",
    "    # new_height = (input_height - filter_height)/S + 1\n",
    "    # 14 = ((28 - fh)/S) + 1\n",
    "    # (13 * S) + fh = 28\n",
    "    # S = 2, fh = 2\n",
    "    ksize=[1, 2, 2, 1]\n",
    "    strides=[1, 2, 2, 1]\n",
    "    padding = 'VALID'\n",
    "    pooling_layer1 = tf.nn.max_pool(layer1, ksize, strides, padding)\n",
    "    \n",
    "    # Layer 2a: Convolutional. Input = 28x28x6. Output = 5x5x16.\n",
    "    # new_height = (input_height - filter_height + 2 * P)/S + 1\n",
    "    # 5 = ((28 - fh)/S) + 1\n",
    "    # (4 * S) + fh = 28\n",
    "    # S = 2, fh = 20\n",
    "    F_W = tf.Variable(tf.truncated_normal((20, 20, 6, 16), mean = mu, stddev = sigma, dtype=tf.float32))\n",
    "    F_b = tf.Variable(tf.zeros(16))\n",
    "    strides = [1, 2, 2, 1]\n",
    "    padding = 'VALID'\n",
    "    layer2a = tf.nn.conv2d(layer1, F_W, strides, padding) + F_b\n",
    "    \n",
    "    # Flatten. Input = 1x1x400. Output = 400.\n",
    "    flatten_layer2a = tf.contrib.layers.flatten(layer2a)\n",
    "\n",
    "    # Layer 2b: Convolutional. Output = 10x10x16.\n",
    "    # new_height = (input_height - filter_height + 2 * P)/S + 1\n",
    "    # 10 = ((14 - fh)/S) + 1\n",
    "    # (9 * S) + fh = 14\n",
    "    # S = 1, fh = 5\n",
    "    F_W = tf.Variable(tf.truncated_normal((5, 5, 6, 16), mean = mu, stddev = sigma, dtype=tf.float32))\n",
    "    F_b = tf.Variable(tf.zeros(16))\n",
    "    strides = [1, 1, 1, 1]\n",
    "    padding = 'VALID'\n",
    "    layer2b = tf.nn.conv2d(pooling_layer1, F_W, strides, padding) + F_b\n",
    "    \n",
    "    # Activation.\n",
    "    layer2b = tf.nn.relu(layer2b)\n",
    "    \n",
    "    # Dropout\n",
    "    layer2b = tf.nn.dropout(layer2b, keep_probability)\n",
    "\n",
    "    # Pooling. Input = 10x10x16. Output = 5x5x16.\n",
    "    # new_height = (input_height - filter_height)/S + 1\n",
    "    # 5 = ((10 - fh)/S) + 1\n",
    "    # (4 * S) + fh = 10\n",
    "    # S = 2, fh = 2\n",
    "    ksize=[1, 2, 2, 1]\n",
    "    strides=[1, 2, 2, 1]\n",
    "    padding = 'VALID'\n",
    "    pooling_layer2b = tf.nn.max_pool(layer2b, ksize, strides, padding)\n",
    "\n",
    "    # Flatten. Input = 5x5x16. Output = 400.\n",
    "    flatten_layer2b = tf.contrib.layers.flatten(pooling_layer2b)\n",
    "    \n",
    "    # Concat layer 2a and layer 2b\n",
    "    flat_layer2 = tf.concat_v2([flatten_layer2b, flatten_layer2a], 1)\n",
    "    \n",
    "    # Layer 3: Fully Connected. Input = 800. Output = 120.\n",
    "    F_W = tf.Variable(tf.truncated_normal((800, 120), mean = mu, stddev = sigma, dtype=tf.float32))\n",
    "    F_b = tf.Variable(tf.zeros(120))\n",
    "    fully_connected = tf.matmul(flat_layer2, F_W) + F_b\n",
    "    \n",
    "    # Activation.\n",
    "    fully_connected = tf.nn.relu(fully_connected)\n",
    "    \n",
    "    # Dropout\n",
    "    fully_connected = tf.nn.dropout(fully_connected, keep_probability)\n",
    "\n",
    "    # Layer 4: Fully Connected. Input = 120. Output = 84.\n",
    "    F_W = tf.Variable(tf.truncated_normal((120, 84), mean = mu, stddev = sigma, dtype=tf.float32))\n",
    "    F_b = tf.Variable(tf.zeros(84))\n",
    "    fully_connected = tf.matmul(fully_connected, F_W) + F_b\n",
    "    \n",
    "    # Activation.\n",
    "    fully_connected = tf.nn.relu(fully_connected)\n",
    "\n",
    "    # Layer 5: Fully Connected. Input = 84. Output = n_classes.\n",
    "    F_W = tf.Variable(tf.truncated_normal((84, n_classes), mean = mu, stddev = sigma, dtype=tf.float32))\n",
    "    F_b = tf.Variable(tf.zeros(n_classes))\n",
    "    logits = tf.matmul(fully_connected, F_W) + F_b\n",
    "    \n",
    "    return logits\n"
   ]
  },
  {
   "cell_type": "markdown",
   "metadata": {},
   "source": [
    "### Question 3\n",
    "\n",
    "_What does your final architecture look like? (Type of model, layers, sizes, connectivity, etc.)  For reference on how to build a deep neural network using TensorFlow, see [Deep Neural Network in TensorFlow\n",
    "](https://classroom.udacity.com/nanodegrees/nd013/parts/fbf77062-5703-404e-b60c-95b78b2f3f9e/modules/6df7ae49-c61c-4bb2-a23e-6527e69209ec/lessons/b516a270-8600-4f93-a0a3-20dfeabe5da6/concepts/83a3a2a2-a9bd-4b7b-95b0-eb924ab14432) from the classroom._\n"
   ]
  },
  {
   "cell_type": "markdown",
   "metadata": {},
   "source": [
    "**Answer:**"
   ]
  },
  {
   "cell_type": "code",
   "execution_count": 22,
   "metadata": {
    "collapsed": false
   },
   "outputs": [],
   "source": [
    "import tensorflow as tf\n",
    "\n",
    "# Let's initialize the model\n",
    "x = tf.placeholder(tf.float32, (None, 32, 32, 3))\n",
    "y = tf.placeholder(tf.int32, (None))\n",
    "keep_probability = tf.placeholder(tf.float32)\n",
    "one_hot_y = tf.one_hot(y, n_classes)\n",
    "\n",
    "adam_learning_rate = 0.0001\n",
    "#gradient_descent_learning_rate = 0.1\n",
    "\n",
    "logits = LeNet(x, keep_probability)\n",
    "cross_entropy = tf.nn.softmax_cross_entropy_with_logits(logits=logits, labels=one_hot_y)\n",
    "#prediction = tf.nn.softmax(logits)\n",
    "#cross_entropy = -tf.reduce_sum(y * tf.log(prediction), reduction_indices=1)\n",
    "loss_operation = tf.reduce_mean(cross_entropy)\n",
    "optimizer = tf.train.AdamOptimizer(adam_learning_rate)\n",
    "#optimizer = tf.train.GradientDescentOptimizer(gradient_descent_learning_rate)\n",
    "training_operation = optimizer.minimize(loss_operation)\n"
   ]
  },
  {
   "cell_type": "code",
   "execution_count": 23,
   "metadata": {
    "collapsed": false
   },
   "outputs": [],
   "source": [
    "correct_prediction = tf.equal(tf.argmax(logits, 1), tf.argmax(one_hot_y, 1))\n",
    "accuracy_operation = tf.reduce_mean(tf.cast(correct_prediction, tf.float32))\n",
    "saver = tf.train.Saver()"
   ]
  },
  {
   "cell_type": "code",
   "execution_count": 24,
   "metadata": {
    "collapsed": false
   },
   "outputs": [
    {
     "name": "stdout",
     "output_type": "stream",
     "text": [
      "Training...\n",
      "\n",
      "EPOCH 1 ...\n",
      "Validation Accuracy = 0.087\n",
      "\n",
      "EPOCH 2 ...\n",
      "Validation Accuracy = 0.217\n",
      "\n",
      "EPOCH 3 ...\n",
      "Validation Accuracy = 0.370\n",
      "\n",
      "EPOCH 4 ...\n",
      "Validation Accuracy = 0.516\n",
      "\n",
      "EPOCH 5 ...\n",
      "Validation Accuracy = 0.614\n",
      "\n",
      "EPOCH 6 ...\n",
      "Validation Accuracy = 0.688\n",
      "\n",
      "EPOCH 7 ...\n",
      "Validation Accuracy = 0.734\n",
      "\n",
      "EPOCH 8 ...\n",
      "Validation Accuracy = 0.770\n",
      "\n",
      "EPOCH 9 ...\n",
      "Validation Accuracy = 0.803\n",
      "\n",
      "EPOCH 10 ...\n",
      "Validation Accuracy = 0.823\n",
      "\n",
      "EPOCH 11 ...\n",
      "Validation Accuracy = 0.842\n",
      "\n",
      "EPOCH 12 ...\n",
      "Validation Accuracy = 0.853\n",
      "\n",
      "EPOCH 13 ...\n",
      "Validation Accuracy = 0.865\n",
      "\n",
      "EPOCH 14 ...\n",
      "Validation Accuracy = 0.877\n",
      "\n",
      "EPOCH 15 ...\n",
      "Validation Accuracy = 0.883\n",
      "\n",
      "EPOCH 16 ...\n",
      "Validation Accuracy = 0.890\n",
      "\n",
      "EPOCH 17 ...\n",
      "Validation Accuracy = 0.892\n",
      "\n",
      "EPOCH 18 ...\n",
      "Validation Accuracy = 0.901\n",
      "\n",
      "EPOCH 19 ...\n",
      "Validation Accuracy = 0.904\n",
      "\n",
      "EPOCH 20 ...\n",
      "Validation Accuracy = 0.909\n",
      "\n",
      "EPOCH 21 ...\n",
      "Validation Accuracy = 0.912\n",
      "\n",
      "EPOCH 22 ...\n",
      "Validation Accuracy = 0.914\n",
      "\n",
      "EPOCH 23 ...\n",
      "Validation Accuracy = 0.918\n",
      "\n",
      "EPOCH 24 ...\n",
      "Validation Accuracy = 0.921\n",
      "\n",
      "EPOCH 25 ...\n",
      "Validation Accuracy = 0.927\n",
      "\n",
      "EPOCH 26 ...\n",
      "Validation Accuracy = 0.930\n",
      "\n",
      "EPOCH 27 ...\n",
      "Validation Accuracy = 0.930\n",
      "\n",
      "EPOCH 28 ...\n",
      "Validation Accuracy = 0.933\n",
      "\n",
      "EPOCH 29 ...\n",
      "Validation Accuracy = 0.936\n",
      "\n",
      "EPOCH 30 ...\n",
      "Validation Accuracy = 0.938\n",
      "\n",
      "EPOCH 31 ...\n",
      "Validation Accuracy = 0.942\n",
      "\n",
      "EPOCH 32 ...\n",
      "Validation Accuracy = 0.946\n",
      "\n",
      "EPOCH 33 ...\n",
      "Validation Accuracy = 0.943\n",
      "\n",
      "EPOCH 34 ...\n",
      "Validation Accuracy = 0.947\n",
      "\n",
      "EPOCH 35 ...\n",
      "Validation Accuracy = 0.947\n",
      "\n",
      "EPOCH 36 ...\n",
      "Validation Accuracy = 0.949\n",
      "\n",
      "EPOCH 37 ...\n",
      "Validation Accuracy = 0.952\n",
      "\n",
      "EPOCH 38 ...\n",
      "Validation Accuracy = 0.952\n",
      "\n",
      "EPOCH 39 ...\n",
      "Validation Accuracy = 0.953\n",
      "\n",
      "EPOCH 40 ...\n",
      "Validation Accuracy = 0.954\n",
      "\n",
      "EPOCH 41 ...\n",
      "Validation Accuracy = 0.953\n",
      "\n",
      "EPOCH 42 ...\n",
      "Validation Accuracy = 0.955\n",
      "\n",
      "EPOCH 43 ...\n",
      "Validation Accuracy = 0.956\n",
      "\n",
      "EPOCH 44 ...\n",
      "Validation Accuracy = 0.958\n",
      "\n",
      "EPOCH 45 ...\n",
      "Validation Accuracy = 0.958\n",
      "\n",
      "EPOCH 46 ...\n",
      "Validation Accuracy = 0.959\n",
      "\n",
      "EPOCH 47 ...\n",
      "Validation Accuracy = 0.962\n",
      "\n",
      "EPOCH 48 ...\n",
      "Validation Accuracy = 0.962\n",
      "\n",
      "EPOCH 49 ...\n",
      "Validation Accuracy = 0.962\n",
      "\n",
      "EPOCH 50 ...\n",
      "Validation Accuracy = 0.963\n",
      "\n",
      "EPOCH 51 ...\n",
      "Validation Accuracy = 0.964\n",
      "\n",
      "EPOCH 52 ...\n",
      "Validation Accuracy = 0.963\n",
      "\n",
      "EPOCH 53 ...\n",
      "Validation Accuracy = 0.965\n",
      "\n",
      "EPOCH 54 ...\n",
      "Validation Accuracy = 0.965\n",
      "\n",
      "EPOCH 55 ...\n",
      "Validation Accuracy = 0.966\n",
      "\n",
      "EPOCH 56 ...\n",
      "Validation Accuracy = 0.968\n",
      "\n",
      "EPOCH 57 ...\n",
      "Validation Accuracy = 0.967\n",
      "\n",
      "EPOCH 58 ...\n",
      "Validation Accuracy = 0.969\n",
      "\n",
      "EPOCH 59 ...\n",
      "Validation Accuracy = 0.970\n",
      "\n",
      "EPOCH 60 ...\n",
      "Validation Accuracy = 0.968\n",
      "\n",
      "EPOCH 61 ...\n",
      "Validation Accuracy = 0.971\n",
      "\n",
      "EPOCH 62 ...\n",
      "Validation Accuracy = 0.972\n",
      "\n",
      "EPOCH 63 ...\n",
      "Validation Accuracy = 0.972\n",
      "\n",
      "EPOCH 64 ...\n",
      "Validation Accuracy = 0.972\n",
      "\n",
      "EPOCH 65 ...\n",
      "Validation Accuracy = 0.973\n",
      "\n",
      "EPOCH 66 ...\n",
      "Validation Accuracy = 0.974\n",
      "\n",
      "EPOCH 67 ...\n",
      "Validation Accuracy = 0.975\n",
      "\n",
      "EPOCH 68 ...\n",
      "Validation Accuracy = 0.975\n",
      "\n",
      "EPOCH 69 ...\n",
      "Validation Accuracy = 0.975\n",
      "\n",
      "EPOCH 70 ...\n",
      "Validation Accuracy = 0.976\n",
      "\n",
      "EPOCH 71 ...\n",
      "Validation Accuracy = 0.976\n",
      "\n",
      "EPOCH 72 ...\n",
      "Validation Accuracy = 0.975\n",
      "\n",
      "EPOCH 73 ...\n",
      "Validation Accuracy = 0.977\n",
      "\n",
      "EPOCH 74 ...\n",
      "Validation Accuracy = 0.976\n",
      "\n",
      "EPOCH 75 ...\n",
      "Validation Accuracy = 0.977\n",
      "\n",
      "EPOCH 76 ...\n",
      "Validation Accuracy = 0.978\n",
      "\n",
      "EPOCH 77 ...\n",
      "Validation Accuracy = 0.979\n",
      "\n",
      "EPOCH 78 ...\n",
      "Validation Accuracy = 0.978\n",
      "\n",
      "EPOCH 79 ...\n",
      "Validation Accuracy = 0.978\n",
      "\n",
      "EPOCH 80 ...\n",
      "Validation Accuracy = 0.980\n",
      "\n",
      "EPOCH 81 ...\n",
      "Validation Accuracy = 0.980\n",
      "\n",
      "EPOCH 82 ...\n",
      "Validation Accuracy = 0.979\n",
      "\n",
      "EPOCH 83 ...\n",
      "Validation Accuracy = 0.981\n",
      "\n",
      "EPOCH 84 ...\n",
      "Validation Accuracy = 0.980\n",
      "\n",
      "EPOCH 85 ...\n",
      "Validation Accuracy = 0.980\n",
      "\n",
      "EPOCH 86 ...\n",
      "Validation Accuracy = 0.981\n",
      "\n",
      "EPOCH 87 ...\n",
      "Validation Accuracy = 0.980\n",
      "\n",
      "EPOCH 88 ...\n",
      "Validation Accuracy = 0.981\n",
      "\n",
      "EPOCH 89 ...\n",
      "Validation Accuracy = 0.981\n",
      "\n",
      "EPOCH 90 ...\n",
      "Validation Accuracy = 0.982\n",
      "\n",
      "EPOCH 91 ...\n",
      "Validation Accuracy = 0.981\n",
      "\n",
      "EPOCH 92 ...\n",
      "Validation Accuracy = 0.982\n",
      "\n",
      "EPOCH 93 ...\n",
      "Validation Accuracy = 0.983\n",
      "\n",
      "EPOCH 94 ...\n",
      "Validation Accuracy = 0.981\n",
      "\n",
      "EPOCH 95 ...\n",
      "Validation Accuracy = 0.983\n",
      "\n",
      "EPOCH 96 ...\n",
      "Validation Accuracy = 0.984\n",
      "\n",
      "EPOCH 97 ...\n",
      "Validation Accuracy = 0.984\n",
      "\n",
      "EPOCH 98 ...\n",
      "Validation Accuracy = 0.984\n",
      "\n",
      "EPOCH 99 ...\n",
      "Validation Accuracy = 0.984\n",
      "\n",
      "EPOCH 100 ...\n",
      "Validation Accuracy = 0.984\n",
      "\n",
      "Model saved\n"
     ]
    }
   ],
   "source": [
    "EPOCHS = 100\n",
    "BATCH_SIZE = 2048\n",
    "\n",
    "\n",
    "def evaluate(X_data, y_data):\n",
    "    num_examples = len(X_data)\n",
    "    total_accuracy = 0\n",
    "    sess = tf.get_default_session()\n",
    "    for offset in range(0, num_examples, BATCH_SIZE):\n",
    "        batch_x, batch_y = X_data[offset:offset+BATCH_SIZE], y_data[offset:offset+BATCH_SIZE]\n",
    "        accuracy = sess.run(accuracy_operation, feed_dict={x: batch_x, y: batch_y, keep_probability: 1.0})\n",
    "        total_accuracy += (accuracy * len(batch_x))\n",
    "    return total_accuracy / num_examples\n",
    "\n",
    "with tf.Session() as sess:\n",
    "    sess.run(tf.global_variables_initializer())\n",
    "    num_examples = len(X_train_split)\n",
    "    \n",
    "    print(\"Training...\")\n",
    "    print()\n",
    "    for i in range(EPOCHS):\n",
    "        X_train_split, y_train_split = shuffle(X_train_split, y_train_split)\n",
    "        for offset in range(0, num_examples, BATCH_SIZE):\n",
    "            end = offset + BATCH_SIZE\n",
    "            batch_x, batch_y = X_train_split[offset:end], y_train_split[offset:end]\n",
    "            sess.run(training_operation, feed_dict={x: batch_x, y: batch_y, keep_probability: 1.0})\n",
    "            \n",
    "        validation_accuracy = evaluate(X_validation_split, y_validation_split)\n",
    "        print(\"EPOCH {} ...\".format(i+1))\n",
    "        print(\"Validation Accuracy = {:.3f}\".format(validation_accuracy))\n",
    "        print()\n",
    "        \n",
    "    saver.save(sess, './lenet')\n",
    "    print(\"Model saved\")"
   ]
  },
  {
   "cell_type": "code",
   "execution_count": 25,
   "metadata": {
    "collapsed": false
   },
   "outputs": [
    {
     "name": "stdout",
     "output_type": "stream",
     "text": [
      "Test Accuracy = 0.877\n"
     ]
    }
   ],
   "source": [
    "with tf.Session() as sess:\n",
    "    saver.restore(sess, tf.train.latest_checkpoint('.'))\n",
    "    test_accuracy = evaluate(X_test_normalized, y_test)\n",
    "    print(\"Test Accuracy = {:.3f}\".format(test_accuracy))"
   ]
  },
  {
   "cell_type": "markdown",
   "metadata": {},
   "source": [
    "### Question 4\n",
    "\n",
    "_How did you train your model? (Type of optimizer, batch size, epochs, hyperparameters, etc.)_\n"
   ]
  },
  {
   "cell_type": "markdown",
   "metadata": {},
   "source": [
    "**Answer:**"
   ]
  },
  {
   "cell_type": "markdown",
   "metadata": {},
   "source": [
    "### Question 5\n",
    "\n",
    "\n",
    "_What approach did you take in coming up with a solution to this problem? It may have been a process of trial and error, in which case, outline the steps you took to get to the final solution and why you chose those steps. Perhaps your solution involved an already well known implementation or architecture. In this case, discuss why you think this is suitable for the current problem._"
   ]
  },
  {
   "cell_type": "markdown",
   "metadata": {},
   "source": [
    "**Answer:**"
   ]
  },
  {
   "cell_type": "markdown",
   "metadata": {},
   "source": [
    "---\n",
    "\n",
    "## Step 3: Test a Model on New Images\n",
    "\n",
    "Take several pictures of traffic signs that you find on the web or around you (at least five), and run them through your classifier on your computer to produce example results. The classifier might not recognize some local signs but it could prove interesting nonetheless.\n",
    "\n",
    "You may find `signnames.csv` useful as it contains mappings from the class id (integer) to the actual sign name."
   ]
  },
  {
   "cell_type": "markdown",
   "metadata": {},
   "source": [
    "### Implementation\n",
    "\n",
    "Use the code cell (or multiple code cells, if necessary) to implement the first step of your project. Once you have completed your implementation and are satisfied with the results, be sure to thoroughly answer the questions that follow."
   ]
  },
  {
   "cell_type": "code",
   "execution_count": null,
   "metadata": {
    "collapsed": true
   },
   "outputs": [],
   "source": [
    "### Load the images and plot them here.\n",
    "### Feel free to use as many code cells as needed."
   ]
  },
  {
   "cell_type": "markdown",
   "metadata": {},
   "source": [
    "### Question 6\n",
    "\n",
    "_Choose five candidate images of traffic signs and provide them in the report. Are there any particular qualities of the image(s) that might make classification difficult? It could be helpful to plot the images in the notebook._\n",
    "\n"
   ]
  },
  {
   "cell_type": "markdown",
   "metadata": {},
   "source": [
    "**Answer:**"
   ]
  },
  {
   "cell_type": "code",
   "execution_count": null,
   "metadata": {
    "collapsed": true
   },
   "outputs": [],
   "source": [
    "### Run the predictions here.\n",
    "### Feel free to use as many code cells as needed."
   ]
  },
  {
   "cell_type": "markdown",
   "metadata": {},
   "source": [
    "### Question 7\n",
    "\n",
    "_Is your model able to perform equally well on captured pictures when compared to testing on the dataset? The simplest way to do this check the accuracy of the predictions. For example, if the model predicted 1 out of 5 signs correctly, it's 20% accurate._\n",
    "\n",
    "_**NOTE:** You could check the accuracy manually by using `signnames.csv` (same directory). This file has a mapping from the class id (0-42) to the corresponding sign name. So, you could take the class id the model outputs, lookup the name in `signnames.csv` and see if it matches the sign from the image._\n"
   ]
  },
  {
   "cell_type": "markdown",
   "metadata": {},
   "source": [
    "**Answer:**"
   ]
  },
  {
   "cell_type": "code",
   "execution_count": null,
   "metadata": {
    "collapsed": true
   },
   "outputs": [],
   "source": [
    "### Visualize the softmax probabilities here.\n",
    "### Feel free to use as many code cells as needed."
   ]
  },
  {
   "cell_type": "markdown",
   "metadata": {},
   "source": [
    "### Question 8\n",
    "\n",
    "*Use the model's softmax probabilities to visualize the **certainty** of its predictions, [`tf.nn.top_k`](https://www.tensorflow.org/versions/r0.12/api_docs/python/nn.html#top_k) could prove helpful here. Which predictions is the model certain of? Uncertain? If the model was incorrect in its initial prediction, does the correct prediction appear in the top k? (k should be 5 at most)*\n",
    "\n",
    "`tf.nn.top_k` will return the values and indices (class ids) of the top k predictions. So if k=3, for each sign, it'll return the 3 largest probabilities (out of a possible 43) and the correspoding class ids.\n",
    "\n",
    "Take this numpy array as an example:\n",
    "\n",
    "```\n",
    "# (5, 6) array\n",
    "a = np.array([[ 0.24879643,  0.07032244,  0.12641572,  0.34763842,  0.07893497,\n",
    "         0.12789202],\n",
    "       [ 0.28086119,  0.27569815,  0.08594638,  0.0178669 ,  0.18063401,\n",
    "         0.15899337],\n",
    "       [ 0.26076848,  0.23664738,  0.08020603,  0.07001922,  0.1134371 ,\n",
    "         0.23892179],\n",
    "       [ 0.11943333,  0.29198961,  0.02605103,  0.26234032,  0.1351348 ,\n",
    "         0.16505091],\n",
    "       [ 0.09561176,  0.34396535,  0.0643941 ,  0.16240774,  0.24206137,\n",
    "         0.09155967]])\n",
    "```\n",
    "\n",
    "Running it through `sess.run(tf.nn.top_k(tf.constant(a), k=3))` produces:\n",
    "\n",
    "```\n",
    "TopKV2(values=array([[ 0.34763842,  0.24879643,  0.12789202],\n",
    "       [ 0.28086119,  0.27569815,  0.18063401],\n",
    "       [ 0.26076848,  0.23892179,  0.23664738],\n",
    "       [ 0.29198961,  0.26234032,  0.16505091],\n",
    "       [ 0.34396535,  0.24206137,  0.16240774]]), indices=array([[3, 0, 5],\n",
    "       [0, 1, 4],\n",
    "       [0, 5, 1],\n",
    "       [1, 3, 5],\n",
    "       [1, 4, 3]], dtype=int32))\n",
    "```\n",
    "\n",
    "Looking just at the first row we get `[ 0.34763842,  0.24879643,  0.12789202]`, you can confirm these are the 3 largest probabilities in `a`. You'll also notice `[3, 0, 5]` are the corresponding indices."
   ]
  },
  {
   "cell_type": "markdown",
   "metadata": {},
   "source": [
    "**Answer:**"
   ]
  },
  {
   "cell_type": "markdown",
   "metadata": {},
   "source": [
    "> **Note**: Once you have completed all of the code implementations and successfully answered each question above, you may finalize your work by exporting the iPython Notebook as an HTML document. You can do this by using the menu above and navigating to  \\n\",\n",
    "    \"**File -> Download as -> HTML (.html)**. Include the finished document along with this notebook as your submission."
   ]
  },
  {
   "cell_type": "code",
   "execution_count": null,
   "metadata": {
    "collapsed": true
   },
   "outputs": [],
   "source": []
  }
 ],
 "metadata": {
  "anaconda-cloud": {},
  "kernelspec": {
   "display_name": "Python [conda env:py35]",
   "language": "python",
   "name": "conda-env-py35-py"
  },
  "language_info": {
   "codemirror_mode": {
    "name": "ipython",
    "version": 3
   },
   "file_extension": ".py",
   "mimetype": "text/x-python",
   "name": "python",
   "nbconvert_exporter": "python",
   "pygments_lexer": "ipython3",
   "version": "3.5.2"
  }
 },
 "nbformat": 4,
 "nbformat_minor": 1
}
